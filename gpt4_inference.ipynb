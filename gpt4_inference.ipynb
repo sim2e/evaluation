{
 "cells": [
  {
   "cell_type": "code",
   "execution_count": 2,
   "metadata": {},
   "outputs": [],
   "source": [
    "# This code is for v1 of the openai package: pypi.org/project/openai\n",
    "from openai import OpenAI\n",
    "import json\n",
    "\n",
    "api_key = TODO\n",
    "client = OpenAI(api_key=api_key)"
   ]
  },
  {
   "cell_type": "code",
   "execution_count": 3,
   "metadata": {},
   "outputs": [
    {
     "data": {
      "text/plain": [
       "251"
      ]
     },
     "execution_count": 3,
     "metadata": {},
     "output_type": "execute_result"
    }
   ],
   "source": [
    "with open('data/5_kings_all.json', 'r') as f:\n",
    "    qa_dataset = json.loads(f.read())\n",
    "\n",
    "len(qa_dataset)"
   ]
  },
  {
   "cell_type": "code",
   "execution_count": 6,
   "metadata": {},
   "outputs": [],
   "source": [
    "def infer(model):\n",
    "    result = []\n",
    "\n",
    "    count = 0\n",
    "    for qa in qa_dataset:\n",
    "        if (count % 20 == 0):\n",
    "            print(f'Inferencing {count} / {len(qa_dataset)}')\n",
    "\n",
    "        response = client.chat.completions.create(\n",
    "            model=model,\n",
    "            messages=[\n",
    "                {\n",
    "                    \"role\": \"system\",\n",
    "                    \"content\": \"Give a short answer within 3 words.\"\n",
    "                },\n",
    "                {\n",
    "                    \"role\": \"user\",\n",
    "                    \"content\": qa['question']\n",
    "                }\n",
    "            ],\n",
    "            temperature=1,\n",
    "            max_tokens=256,\n",
    "            top_p=1,\n",
    "            frequency_penalty=0,\n",
    "            presence_penalty=0\n",
    "        )\n",
    "        inference = response.choices[0].message.content\n",
    "\n",
    "        result.append(inference)\n",
    "\n",
    "        count += 1\n",
    "\n",
    "    return result"
   ]
  },
  {
   "cell_type": "code",
   "execution_count": null,
   "metadata": {},
   "outputs": [],
   "source": [
    "with open('data/gpt4_result.txt', 'w') as f:\n",
    "    result = infer('gpt-4-1106-preview')\n",
    "    f.write('\\n'.join(result))"
   ]
  },
  {
   "cell_type": "code",
   "execution_count": 7,
   "metadata": {},
   "outputs": [
    {
     "name": "stdout",
     "output_type": "stream",
     "text": [
      "Inferencing 0 / 251\n",
      "Inferencing 20 / 251\n",
      "Inferencing 40 / 251\n",
      "Inferencing 60 / 251\n",
      "Inferencing 80 / 251\n",
      "Inferencing 100 / 251\n",
      "Inferencing 120 / 251\n",
      "Inferencing 140 / 251\n",
      "Inferencing 160 / 251\n",
      "Inferencing 180 / 251\n",
      "Inferencing 200 / 251\n",
      "Inferencing 220 / 251\n",
      "Inferencing 240 / 251\n"
     ]
    }
   ],
   "source": [
    "with open('data/gpt3_5_fine_tuned_result.txt', 'w') as f:\n",
    "    result = infer('ft:gpt-3.5-turbo-1106:personal::8MbvPLZQ')\n",
    "    f.write('\\n'.join(result))"
   ]
  },
  {
   "cell_type": "code",
   "execution_count": 8,
   "metadata": {},
   "outputs": [
    {
     "name": "stdout",
     "output_type": "stream",
     "text": [
      "Inferencing 0 / 251\n",
      "Inferencing 20 / 251\n",
      "Inferencing 40 / 251\n",
      "Inferencing 60 / 251\n",
      "Inferencing 80 / 251\n",
      "Inferencing 100 / 251\n",
      "Inferencing 120 / 251\n",
      "Inferencing 140 / 251\n",
      "Inferencing 160 / 251\n",
      "Inferencing 180 / 251\n",
      "Inferencing 200 / 251\n",
      "Inferencing 220 / 251\n",
      "Inferencing 240 / 251\n"
     ]
    }
   ],
   "source": [
    "with open('data/gpt3_5_result.txt', 'w') as f:\n",
    "    result = infer('gpt-3.5-turbo-1106')\n",
    "    f.write('\\n'.join(result))"
   ]
  },
  {
   "cell_type": "code",
   "execution_count": null,
   "metadata": {},
   "outputs": [],
   "source": []
  }
 ],
 "metadata": {
  "kernelspec": {
   "display_name": "Python 3",
   "language": "python",
   "name": "python3"
  },
  "language_info": {
   "codemirror_mode": {
    "name": "ipython",
    "version": 3
   },
   "file_extension": ".py",
   "mimetype": "text/x-python",
   "name": "python",
   "nbconvert_exporter": "python",
   "pygments_lexer": "ipython3",
   "version": "3.9.6"
  }
 },
 "nbformat": 4,
 "nbformat_minor": 2
}
